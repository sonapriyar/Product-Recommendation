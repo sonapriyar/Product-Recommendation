{
 "cells": [
  {
   "cell_type": "code",
   "execution_count": 4,
   "metadata": {},
   "outputs": [
    {
     "name": "stdout",
     "output_type": "stream",
     "text": [
      "                             Product Title  \\\n",
      "0  Apple iPhone 15 (Black, 128 GB) Reviews   \n",
      "1  Apple iPhone 15 (Black, 128 GB) Reviews   \n",
      "2  Apple iPhone 15 (Black, 128 GB) Reviews   \n",
      "3  Apple iPhone 15 (Black, 128 GB) Reviews   \n",
      "4  Apple iPhone 15 (Black, 128 GB) Reviews   \n",
      "\n",
      "                                              Review  Rating  SentimentScore  \\\n",
      "0  Awesome photography experience. Battery backup...       5        0.733333   \n",
      "1  Awesome photography experience. Battery backup...       5        0.733333   \n",
      "2                               High quality camera😍       5        0.160000   \n",
      "3                               High quality camera😍       4        0.160000   \n",
      "4  Nice product with all features specially its l...       5        0.552381   \n",
      "\n",
      "  Sentiment  \n",
      "0  positive  \n",
      "1  positive  \n",
      "2  positive  \n",
      "3  positive  \n",
      "4  positive  \n",
      "Top product recommendations saved to C:\\Users\\sonur\\OneDrive\\Desktop\\Projects\\Final projec(flipkart)\\VScode\\top_product_recommendations.csv\n"
     ]
    }
   ],
   "source": [
    "import pandas as pd\n",
    "\n",
    "# Step 1: Load the sentiment analysis results from a JSON file\n",
    "sentiment_file_path = r\"C:\\Users\\sonur\\OneDrive\\Desktop\\Projects\\Final projec(flipkart)\\VScode\\sentimentalanalysis.json\"  # Update with your file path\n",
    "df = pd.read_json(sentiment_file_path)\n",
    "\n",
    "# Step 2: Clean column names\n",
    "df.columns = df.columns.str.strip()\n",
    "\n",
    "# Step 3: Check the structure of the DataFrame (Optional)\n",
    "print(df.head())\n",
    "\n",
    "# Step 4: Aggregate average sentiment scores by Product Title\n",
    "product_recommendations = df.groupby('Product Title').agg(\n",
    "    AverageSentimentScore=('SentimentScore', 'mean'),\n",
    "    TotalReviews=('Review', 'count')\n",
    ").reset_index()\n",
    "\n",
    "# Step 5: Sort products by average sentiment score and total reviews\n",
    "product_recommendations = product_recommendations.sort_values(\n",
    "    by=['AverageSentimentScore', 'TotalReviews'], \n",
    "    ascending=[False, False]\n",
    ")\n",
    "\n",
    "# Step 6: Select top products\n",
    "top_n = 5  # Number of top products to recommend\n",
    "top_products = product_recommendations.head(top_n)\n",
    "\n",
    "# Step 7: Save recommendations to a new CSV file\n",
    "recommendation_file_path = r\"C:\\Users\\sonur\\OneDrive\\Desktop\\Projects\\Final projec(flipkart)\\VScode\\top_product_recommendations.csv\"  # Update with desired output path\n",
    "top_products.to_csv(recommendation_file_path, index=False)\n",
    "\n",
    "print(f\"Top product recommendations saved to {recommendation_file_path}\")\n"
   ]
  }
 ],
 "metadata": {
  "kernelspec": {
   "display_name": "Python 3",
   "language": "python",
   "name": "python3"
  },
  "language_info": {
   "codemirror_mode": {
    "name": "ipython",
    "version": 3
   },
   "file_extension": ".py",
   "mimetype": "text/x-python",
   "name": "python",
   "nbconvert_exporter": "python",
   "pygments_lexer": "ipython3",
   "version": "3.12.3"
  }
 },
 "nbformat": 4,
 "nbformat_minor": 2
}
